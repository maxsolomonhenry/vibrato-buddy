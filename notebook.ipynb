{
 "cells": [
  {
   "cell_type": "code",
   "execution_count": 3,
   "metadata": {},
   "outputs": [],
   "source": [
    "import sys\n",
    "sys.path.append('src/')\n",
    "\n",
    "from data_util import hz_to_audio, df_to_hz\n",
    "\n",
    "import matplotlib.pyplot as plt\n",
    "import IPython.display as ipd\n",
    "from glob import glob as glob\n",
    "import sounddevice as sd\n",
    "import soundfile as sf\n",
    "import pandas as pd\n",
    "import numpy as np\n",
    "import librosa\n",
    "import os"
   ]
  },
  {
   "cell_type": "code",
   "execution_count": null,
   "metadata": {},
   "outputs": [],
   "source": [
    "paths = glob(\"data/musicnet_solo/*.wav\")\n",
    "hop_size = 512\n",
    "\n",
    "for path in paths[3:4]:\n",
    "    dirname = os.path.dirname(path)\n",
    "    basename = os.path.splitext(os.path.basename(path))[0]\n",
    "\n",
    "    data, sr = sf.read(path, dtype='float32')\n",
    "    f0_y, voiced_flag, voiced_probs = librosa.pyin(data, sr=sr, fmin=50, fmax=2000)\n",
    "    f0_y = np.repeat(f0_y, hop_size)\n",
    "\n",
    "    df = pd.read_csv(os.path.join(dirname, basename + '.csv'))\n",
    "    f0_x = df_to_hz(df)\n",
    "\n",
    "    n_samples = np.min([len(f0_y), len(f0_x)])\n",
    "    f0_x = f0_x[:n_samples]\n",
    "    f0_y = f0_y[:n_samples]\n",
    "\n",
    "    f0_y[np.isnan(f0_y)] = f0_x[np.isnan(f0_y)]\n",
    "\n",
    "    f0_x[np.isnan(f0_x)] = 0\n",
    "    f0_y[np.isnan(f0_y)] = 0\n",
    "\n",
    "    audio_x = hz_to_audio(f0_x, sr=sr)\n",
    "    audio_y = hz_to_audio(f0_y, sr=sr)\n",
    "\n",
    "    display(ipd.Audio(audio_x, rate=sr))\n",
    "    display(ipd.Audio(audio_y, rate=sr))\n",
    "\n",
    "    plt.plot(f0_x)\n",
    "    plt.plot(f0_y)\n",
    "    plt.xlim([5*44100, 15*44100])\n",
    "    plt.show()\n",
    "    break\n"
   ]
  }
 ],
 "metadata": {
  "kernelspec": {
   "display_name": "notebook",
   "language": "python",
   "name": "python3"
  },
  "language_info": {
   "codemirror_mode": {
    "name": "ipython",
    "version": 3
   },
   "file_extension": ".py",
   "mimetype": "text/x-python",
   "name": "python",
   "nbconvert_exporter": "python",
   "pygments_lexer": "ipython3",
   "version": "3.9.19"
  }
 },
 "nbformat": 4,
 "nbformat_minor": 2
}
